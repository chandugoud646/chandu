{
 "cells": [
  {
   "cell_type": "code",
   "execution_count": null,
   "metadata": {},
   "outputs": [],
   "source": [
    "Day objectives\n",
    "-python Data structures:\n",
    "Lists Tuples Dictionaries -Basic program sets on Data Structures -Advanced Problem set -\n",
    "Contact Application(Dictionary object)\n",
    "Data Structures:\n",
    "-To store,search and sort the data\n",
    "Python Data Structures\n",
    "Lists\n",
    "-It's one of common data structures supports by python,the list items are separated by comma operator and\n",
    "enclosed in square brackets -Example:\n",
    " - list1=[1,6,2,18,9]\n",
    " - list2=[\"Gitam\",10,12,15.5,\"Hyderabad\"]"
   ]
  },
  {
   "cell_type": "code",
   "execution_count": 1,
   "metadata": {},
   "outputs": [
    {
     "name": "stdout",
     "output_type": "stream",
     "text": [
      "[1, 8, 16, 9, 2]\n",
      "1\n",
      "8\n",
      "2\n",
      "9\n",
      "[8, 16, 9, 2]\n",
      "[8, 16, 9]\n",
      "[2]\n"
     ]
    }
   ],
   "source": [
    "lst =[1,8,16,9,2] #Creating the list object in python\n",
    "print(lst) #Access the entire list\n",
    "print(lst[0]) #Access the first item list\n",
    "print(lst[1]) #Access the second item list\n",
    "print(lst[-1]) #Access the last item list\n",
    "print(lst[-2])\n",
    "print(lst[1:])\n",
    "print(lst[1:4])\n",
    "print(lst[-1:])\n"
   ]
  },
  {
   "cell_type": "code",
   "execution_count": 3,
   "metadata": {},
   "outputs": [
    {
     "name": "stdout",
     "output_type": "stream",
     "text": [
      "['Gitam', 'Python', 1989, 2002]\n",
      "['Gitam', 'Python', 2019, 2002]\n"
     ]
    }
   ],
   "source": [
    "#Update the list item values using index(Direct referncing)\n",
    "li=[\"Gitam\",\"Python\",1989,2002]\n",
    "print(li)\n",
    "li[2]=2019\n",
    "print(li)"
   ]
  },
  {
   "cell_type": "code",
   "execution_count": 4,
   "metadata": {},
   "outputs": [
    {
     "name": "stdout",
     "output_type": "stream",
     "text": [
      "['Gitam', 'Python', 2019, 2002]\n",
      "['Gitam', 'Python', 2002]\n"
     ]
    }
   ],
   "source": [
    "# delete the specific item in the list\n",
    "print(li)\n",
    "del li[2]\n",
    "print(li)"
   ]
  },
  {
   "cell_type": "code",
   "execution_count": 5,
   "metadata": {},
   "outputs": [
    {
     "data": {
      "text/plain": [
       "['Gitam', 'Python', 2002]"
      ]
     },
     "execution_count": 5,
     "metadata": {},
     "output_type": "execute_result"
    }
   ],
   "source": [
    "#Basic list Operations\n",
    "li"
   ]
  },
  {
   "cell_type": "code",
   "execution_count": 6,
   "metadata": {},
   "outputs": [
    {
     "name": "stdout",
     "output_type": "stream",
     "text": [
      "5\n",
      "[1, 9, 6, 18, 2, 1, 9, 6, 18, 2]\n",
      "5\n",
      "True\n",
      "False\n",
      "1 9 6 18 2 "
     ]
    }
   ],
   "source": [
    "#Basic list Operations\n",
    "lst1=[1,9,6,18,2]\n",
    "print(len(lst1)) #len of the list\n",
    "print(lst1 *2) #Repetation\n",
    "print(len(lst1))\n",
    "print(9 in lst1) #list item is present or not\n",
    "print(15 in lst1)\n",
    "#Access the list items using iteration\n",
    "for x in range(len(lst1)):\n",
    " print(lst1[x],end=' ')"
   ]
  },
  {
   "cell_type": "code",
   "execution_count": 7,
   "metadata": {},
   "outputs": [
    {
     "name": "stdout",
     "output_type": "stream",
     "text": [
      "1\n",
      "18\n",
      "36\n",
      "7\n",
      "13.5\n"
     ]
    }
   ],
   "source": [
    "#Fuction of the list\n",
    "lst1\n",
    "print(min(lst1)) #min item/element of the list\n",
    "print(max(lst1)) #max element of the list\n",
    "print(sum(lst1)) #sum of the all elements of the list\n",
    "print(sum(lst1)//len(lst1)) #Average of list elements\n",
    "print(sum(lst1[1::2])/len(lst1[1::2])) #Average of all the alternate numb"
   ]
  },
  {
   "cell_type": "code",
   "execution_count": null,
   "metadata": {},
   "outputs": [],
   "source": [
    "lst1\n",
    "lst1.append(24) #adding a new element at the end of the list\n",
    "lst1\n",
    "lst1.insert(2,56) # adding a element at particular index\n",
    "lst1\n",
    "lst1.count(18) #return the value how many times the object repeated\n",
    "lst1.index(56)\n",
    "lst1.sort() # its sort the list in ascending order\n",
    "lst1\n",
    "lst1.pop() #remove the last element from the list\n",
    "lst1\n",
    "lst1.pop(1) #Remove an element from a particular index\n",
    "lst2 =[123,23,45]\n",
    "lst1.extend(lst2) #merge the list2 into list1\n",
    "lst1.reverse()\n",
    "lst1.remove(123)\n",
    "lst1"
   ]
  }
 ],
 "metadata": {
  "kernelspec": {
   "display_name": "Python 3",
   "language": "python",
   "name": "python3"
  },
  "language_info": {
   "codemirror_mode": {
    "name": "ipython",
    "version": 3
   },
   "file_extension": ".py",
   "mimetype": "text/x-python",
   "name": "python",
   "nbconvert_exporter": "python",
   "pygments_lexer": "ipython3",
   "version": "3.7.3"
  }
 },
 "nbformat": 4,
 "nbformat_minor": 2
}
