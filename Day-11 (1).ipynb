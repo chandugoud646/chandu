{
 "cells": [
  {
   "cell_type": "markdown",
   "metadata": {},
   "source": [
    "### Regular Expression\n",
    "- pattern matching\n",
    "- pattern(re) package\n",
    "- cap symbolis used to represent the start of re\n",
    "- dollar symbol is used to represent the end of re\n",
    "- [0-9] -->any digit matching\n",
    "- two digit number(^[0-9]{2}$)\n",
    "\n",
    "- Five digit number(^[0-9]{5}$)"
   ]
  },
  {
   "cell_type": "markdown",
   "metadata": {},
   "source": [
    "### Regular Expression For characters\n",
    "- [a-z]--> Any lower case characters\n",
    "- [A-Z]--> Any upper case character\n",
    "\n",
    "- ^[a-z]{5}$ --> it accepts 5lower case characters\n",
    "\n",
    "- ^[a-zA-Z]{8}$-->accepts 8 characters can be anything lower and upper\n",
    "\n",
    "- ^[a-zA-Z0-9]{8}$--> Accept 8characters can be anything lower upper and digit "
   ]
  },
  {
   "cell_type": "code",
   "execution_count": 1,
   "metadata": {},
   "outputs": [
    {
     "name": "stdout",
     "output_type": "stream",
     "text": [
      "True\n",
      "False\n"
     ]
    }
   ],
   "source": [
    "# function to test 2 digit number matching\n",
    "import re\n",
    "def twoDigitmatching (n):\n",
    "    pattern='^[0-9]{2}$'\n",
    "    n=str(n)\n",
    "    if re.match(pattern,n):\n",
    "        return True\n",
    "    return  False\n",
    "print(twoDigitmatching(12))#true\n",
    "print(twoDigitmatching(123))#false"
   ]
  },
  {
   "cell_type": "markdown",
   "metadata": {},
   "source": [
    "### regular expression to match the indian mobile no\n",
    "- 10 Digit\n",
    "- (First digit will be [6-9] and remaining digits will be form[0-9])\n",
    "- Example 9642153215\n",
    "- Re - ^[6-9][0-9]{9}$\n",
    "- Example:- 09988774455\n",
    "\n",
    "- Re -- ^[0][6-9][0-9]{9}$\n",
    "\n",
    "- Example - +919988774455\n",
    "\n",
    "- Re - ^[+][9][1][6-9][0-9]{9}$"
   ]
  },
  {
   "cell_type": "code",
   "execution_count": 8,
   "metadata": {},
   "outputs": [
    {
     "name": "stdout",
     "output_type": "stream",
     "text": [
      "False\n",
      "False\n"
     ]
    }
   ],
   "source": [
    "#function to define to test username having 8 characters\n",
    "#Upper case and lower\n",
    "def testUsername(s):\n",
    "    pattern='^(a-zA-Z){8}$'\n",
    "    if re.match(pattern,s):\n",
    "        return True\n",
    "    return False\n",
    "print(testUsername('GitamHYD'))\n",
    "print(testUsername('Gitam188'))"
   ]
  },
  {
   "cell_type": "code",
   "execution_count": 13,
   "metadata": {},
   "outputs": [
    {
     "data": {
      "text/plain": [
       "True"
      ]
     },
     "execution_count": 13,
     "metadata": {},
     "output_type": "execute_result"
    }
   ],
   "source": [
    "# function to validate the indian mobile number\n",
    "def phonenumbervalidation(phone):\n",
    "    pattern = '^[+][9][1][6-9][0-9]{9}$|^[0][6-9][0-9]{9}$|^[6-9][0-9]{9}$'\n",
    "    phone = str(phone)\n",
    "    if re.match(pattern,phone):\n",
    "        return True\n",
    "    return False\n",
    "phonenumbervalidation('9988774455')"
   ]
  },
  {
   "cell_type": "markdown",
   "metadata": {},
   "source": [
    "-- Regular expression to validate the rollnumber \n",
    "    - Example : 1521A0501\n",
    "    - Example : 1521A0109\n",
    "    - Example : 1521A0499\n",
    " \n",
    "-- Regular expression to validate the password\n",
    " \n",
    "    - parameters : len min of 6 characters and max of 15 characters\n",
    "    - Accept Lower case, upper case, digits, splchar(@ ,#,$,!)\n"
   ]
  },
  {
   "cell_type": "code",
   "execution_count": 4,
   "metadata": {},
   "outputs": [
    {
     "name": "stdout",
     "output_type": "stream",
     "text": [
      "enter roll number 1521A1234\n"
     ]
    },
    {
     "data": {
      "text/plain": [
       "True"
      ]
     },
     "execution_count": 4,
     "metadata": {},
     "output_type": "execute_result"
    }
   ],
   "source": [
    "# Function to test roll number motching\n",
    "\n",
    "import re\n",
    "def match(n):\n",
    "    pattern='^[1][5][2][1][A][0-9]{4}$'\n",
    "    n=str(n)\n",
    "    if re.match(pattern,n):\n",
    "        return True\n",
    "    return False\n",
    "n=str(input(\"enter roll number \"))\n",
    "match(n)"
   ]
  },
  {
   "cell_type": "code",
   "execution_count": 6,
   "metadata": {},
   "outputs": [
    {
     "name": "stdout",
     "output_type": "stream",
     "text": [
      "enter the password Aa@123\n"
     ]
    },
    {
     "data": {
      "text/plain": [
       "True"
      ]
     },
     "execution_count": 6,
     "metadata": {},
     "output_type": "execute_result"
    }
   ],
   "source": [
    "# Function to test password matching\n",
    "\n",
    "import re\n",
    "def match(n):\n",
    "    pattern='^[A-za-z0-9@#!]{6,15}$'\n",
    "    n=str(n)\n",
    "    if re.match(pattern,n):\n",
    "        return True\n",
    "    return False\n",
    "n=str(input(\"enter the password \"))\n",
    "match(n)"
   ]
  },
  {
   "cell_type": "markdown",
   "metadata": {},
   "source": [
    "### Email ID validation using Regular Expression\n",
    "- Example : Username@DomainName.extension\n",
    "- Username :-\n",
    "            - Length will be [6-15]\n",
    "            - No Spls characters apart from Underscore(_)\n",
    "            - Should not begin and ends with Underscore(_)\n",
    "            - Characters Set : All digits and lower case\n",
    "- DomainName :- \n",
    "             - Length will be [3-18]\n",
    "             - No spls characters\n",
    "             - Character Set : All digits and lower case\n",
    "- Extension :-\n",
    "             - Length will be [2-4]\n",
    "             - No spl characters\n",
    "             - Character Set : Lower case characters"
   ]
  },
  {
   "cell_type": "code",
   "execution_count": 3,
   "metadata": {},
   "outputs": [
    {
     "name": "stdout",
     "output_type": "stream",
     "text": [
      "enter emailjeshwanth232000@gmail.com\n"
     ]
    },
    {
     "data": {
      "text/plain": [
       "True"
      ]
     },
     "execution_count": 3,
     "metadata": {},
     "output_type": "execute_result"
    }
   ],
   "source": [
    "import re\n",
    "def match(n):\n",
    "    pattern = '^[0-9a-z_.][0-9a-z_.]{6,15}[@][a-z0-9]{3,18}[.][a-z]{2,4}$'\n",
    "    n = str(n)\n",
    "    if re.match(pattern,n):\n",
    "        return True\n",
    "    return False\n",
    "n=str(input(\"enter email\"))\n",
    "match(n)"
   ]
  },
  {
   "cell_type": "markdown",
   "metadata": {},
   "source": [
    "### Python Turtle\n",
    "- Turtle Graphics"
   ]
  },
  {
   "cell_type": "code",
   "execution_count": 7,
   "metadata": {},
   "outputs": [],
   "source": [
    "# Step 1 : Make all the turtle package to be imported\n",
    "import turtle\n",
    "# Turtle method creates and returns a new object\n",
    "a1= turtle.Turtle()\n",
    "# forward() method moves 100 pixels\n",
    "turtle.forward(250)\n",
    "#we are done\n",
    "turtle.done()"
   ]
  },
  {
   "cell_type": "code",
   "execution_count": 1,
   "metadata": {},
   "outputs": [],
   "source": [
    "#Line draw in reverse direction\n",
    "import turtle as tt\n",
    "a1 = tt.Turtle()\n",
    "tt.backward(100)\n",
    "tt.done()"
   ]
  },
  {
   "cell_type": "code",
   "execution_count": 1,
   "metadata": {},
   "outputs": [
    {
     "data": {
      "text/plain": [
       "<function turtle.mainloop()>"
      ]
     },
     "execution_count": 1,
     "metadata": {},
     "output_type": "execute_result"
    }
   ],
   "source": [
    "# Draw square\n",
    "import turtle as tt\n",
    "a1 = tt.Turtle()\n",
    "a1.forward(150)\n",
    "a1.right(90)\n",
    "a1.forward(150)\n",
    "a1.right(90)\n",
    "a1.forward(150)\n",
    "a1.right(90)\n",
    "a1.forward(150)\n",
    "a1.right(90)\n",
    "tt.done"
   ]
  },
  {
   "cell_type": "code",
   "execution_count": 6,
   "metadata": {},
   "outputs": [
    {
     "data": {
      "text/plain": [
       "<function turtle.mainloop()>"
      ]
     },
     "execution_count": 6,
     "metadata": {},
     "output_type": "execute_result"
    }
   ],
   "source": [
    "# Draw square\n",
    "import turtle as tt\n",
    "a1 = tt.Turtle()\n",
    "a1.backward(150)\n",
    "a1.left(90)\n",
    "a1.backward(150)\n",
    "a1.left(90)\n",
    "a1.backward(150)\n",
    "a1.left(90)\n",
    "a1.backward(150)\n",
    "a1.left(90)\n",
    "tt.done"
   ]
  },
  {
   "cell_type": "code",
   "execution_count": 1,
   "metadata": {},
   "outputs": [
    {
     "data": {
      "text/plain": [
       "<function turtle.mainloop()>"
      ]
     },
     "execution_count": 1,
     "metadata": {},
     "output_type": "execute_result"
    }
   ],
   "source": [
    "# Draw pentagon\n",
    "import turtle as tt\n",
    "a1 = tt.Turtle()\n",
    "a1.forward(50)\n",
    "a1.right(72)\n",
    "a1.forward(50)\n",
    "a1.right(72)\n",
    "a1.forward(50)\n",
    "a1.right(72)\n",
    "a1.forward(50)\n",
    "a1.right(72)\n",
    "a1.forward(50)\n",
    "tt.done"
   ]
  },
  {
   "cell_type": "code",
   "execution_count": 1,
   "metadata": {},
   "outputs": [],
   "source": [
    "# Star\n",
    "import turtle as t\n",
    "a1 = t.Turtle()\n",
    "for i in range(40):\n",
    "    a1.forward(50)\n",
    "    a1.right(144)\n",
    "t.done()"
   ]
  },
  {
   "cell_type": "code",
   "execution_count": null,
   "metadata": {},
   "outputs": [],
   "source": [
    "# Spiraling Star\n",
    "import turtle as t\n",
    "a1 = t.Turtle()\n",
    "a1.pencolor('blue')\n",
    "for i in range(40):\n",
    "   a1.forward(i*10)\n",
    "   a1.right(144)\n",
    "t.done()"
   ]
  },
  {
   "cell_type": "code",
   "execution_count": 1,
   "metadata": {},
   "outputs": [],
   "source": [
    "# Square Spiral help of Turtle\n",
    "import turtle as t\n",
    "a1= t.Turtle()\n",
    "for i in range(250):\n",
    "   a1.forward(i)\n",
    "   a1.left(91)   \n",
    "t.done()"
   ]
  },
  {
   "cell_type": "code",
   "execution_count": null,
   "metadata": {},
   "outputs": [],
   "source": []
  }
 ],
 "metadata": {
  "kernelspec": {
   "display_name": "Python 3",
   "language": "python",
   "name": "python3"
  },
  "language_info": {
   "codemirror_mode": {
    "name": "ipython",
    "version": 3
   },
   "file_extension": ".py",
   "mimetype": "text/x-python",
   "name": "python",
   "nbconvert_exporter": "python",
   "pygments_lexer": "ipython3",
   "version": "3.7.3"
  }
 },
 "nbformat": 4,
 "nbformat_minor": 2
}
